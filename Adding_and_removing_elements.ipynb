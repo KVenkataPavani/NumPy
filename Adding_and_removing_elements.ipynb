{
  "nbformat": 4,
  "nbformat_minor": 0,
  "metadata": {
    "colab": {
      "provenance": [],
      "authorship_tag": "ABX9TyN3umxGf+aNJkoy3/lcFL3T",
      "include_colab_link": true
    },
    "kernelspec": {
      "name": "python3",
      "display_name": "Python 3"
    },
    "language_info": {
      "name": "python"
    }
  },
  "cells": [
    {
      "cell_type": "markdown",
      "metadata": {
        "id": "view-in-github",
        "colab_type": "text"
      },
      "source": [
        "<a href=\"https://colab.research.google.com/github/KVenkataPavani/NumPy-Numerical_Python/blob/main/Adding_and_removing_elements.ipynb\" target=\"_parent\"><img src=\"https://colab.research.google.com/assets/colab-badge.svg\" alt=\"Open In Colab\"/></a>"
      ]
    },
    {
      "cell_type": "code",
      "execution_count": 1,
      "metadata": {
        "id": "OkRucXR5kHur"
      },
      "outputs": [],
      "source": [
        "import numpy as np"
      ]
    },
    {
      "cell_type": "code",
      "source": [
        "a = np.array([1,2,3,4])\n",
        "a2 = np.append(a,6)\n",
        "print(a2)"
      ],
      "metadata": {
        "colab": {
          "base_uri": "https://localhost:8080/"
        },
        "id": "5uceyCeJkM8p",
        "outputId": "2df27651-a02a-4832-d792-b0c1d3e84f6d"
      },
      "execution_count": 2,
      "outputs": [
        {
          "output_type": "stream",
          "name": "stdout",
          "text": [
            "[1 2 3 4 6]\n"
          ]
        }
      ]
    },
    {
      "cell_type": "code",
      "source": [
        "a = np.array([[1,2],[3,4]])\n",
        "a2 = np.append(a,6)\n",
        "print(a2) # even though it 2D it converts into 1D"
      ],
      "metadata": {
        "colab": {
          "base_uri": "https://localhost:8080/"
        },
        "id": "Bnw4dy3ikaFM",
        "outputId": "80df8378-97da-4e8f-bb2d-f20f428506cf"
      },
      "execution_count": 3,
      "outputs": [
        {
          "output_type": "stream",
          "name": "stdout",
          "text": [
            "[1 2 3 4 6]\n"
          ]
        }
      ]
    },
    {
      "cell_type": "code",
      "source": [
        "a = np.array([1,2,3,4])\n",
        "a2 = np.insert(a,1,6)\n",
        "print(a2)"
      ],
      "metadata": {
        "colab": {
          "base_uri": "https://localhost:8080/"
        },
        "id": "_ul-hjHWkjPl",
        "outputId": "15cd967d-a119-44a0-f85a-93b80508b49b"
      },
      "execution_count": 4,
      "outputs": [
        {
          "output_type": "stream",
          "name": "stdout",
          "text": [
            "[1 6 2 3 4]\n"
          ]
        }
      ]
    },
    {
      "cell_type": "code",
      "source": [
        "a = np.array([[1,2],[3,4]])\n",
        "a2 = np.insert(a,1,6)\n",
        "print(a2)"
      ],
      "metadata": {
        "colab": {
          "base_uri": "https://localhost:8080/"
        },
        "id": "2SH_ghz1kyTd",
        "outputId": "b88bcee4-8f83-4b93-dad3-fb8a40dfe5ff"
      },
      "execution_count": 5,
      "outputs": [
        {
          "output_type": "stream",
          "name": "stdout",
          "text": [
            "[1 6 2 3 4]\n"
          ]
        }
      ]
    },
    {
      "cell_type": "code",
      "source": [
        "a = np.array([[1,2],[3,4]])\n",
        "a2 = np.insert(a,1,[6,7])\n",
        "print(a2)"
      ],
      "metadata": {
        "colab": {
          "base_uri": "https://localhost:8080/"
        },
        "id": "bXMggDjTk8rw",
        "outputId": "27b9991b-6c0b-448e-d7c7-a639af198aa9"
      },
      "execution_count": 6,
      "outputs": [
        {
          "output_type": "stream",
          "name": "stdout",
          "text": [
            "[1 6 7 2 3 4]\n"
          ]
        }
      ]
    },
    {
      "cell_type": "code",
      "source": [
        "a = np.array([[1,2],[3,4]])\n",
        "a2 = np.insert(a,1,[6,7] , axis =1)\n",
        "print(a2)\n",
        "print(\"__________________________\")\n",
        "a = np.array([[1,2],[3,4]])\n",
        "a2 = np.insert(a,1,[6,7] , axis =0)\n",
        "print(a2)"
      ],
      "metadata": {
        "colab": {
          "base_uri": "https://localhost:8080/"
        },
        "id": "7ABNisANlEJu",
        "outputId": "35162f4a-0f93-421c-85c1-e9daede097dc"
      },
      "execution_count": 9,
      "outputs": [
        {
          "output_type": "stream",
          "name": "stdout",
          "text": [
            "[[1 6 2]\n",
            " [3 7 4]]\n",
            "__________________________\n",
            "[[1 2]\n",
            " [6 7]\n",
            " [3 4]]\n"
          ]
        }
      ]
    },
    {
      "cell_type": "code",
      "source": [
        "a = np.array([[1,2],[3,4]])\n",
        "a2 = np.insert(a,1,[6] , axis =1) # even though we give one value it fills both\n",
        "print(a2)\n",
        "print(\"__________________________\")\n",
        "a = np.array([[1,2],[3,4]])\n",
        "a2 = np.insert(a,1,[6] , axis =0)# even though we give one value it fills both\n",
        "print(a2)"
      ],
      "metadata": {
        "colab": {
          "base_uri": "https://localhost:8080/"
        },
        "id": "juwqvQPIlOnZ",
        "outputId": "b984c2e9-5133-4072-cab2-97966cf184e3"
      },
      "execution_count": 10,
      "outputs": [
        {
          "output_type": "stream",
          "name": "stdout",
          "text": [
            "[[1 6 2]\n",
            " [3 6 4]]\n",
            "__________________________\n",
            "[[1 2]\n",
            " [6 6]\n",
            " [3 4]]\n"
          ]
        }
      ]
    },
    {
      "cell_type": "code",
      "source": [
        "a = np.array([[1,2],[3,4]])\n",
        "a2 = np.insert(a,[1,2],[6,7] , axis =1)\n",
        "print(a2)\n",
        "#The key is that when you specify multiple insertion positions [1,2], the second position (2) is counted based on the array's state after the first insertion\n",
        "print(\"__________________________\")\n",
        "a = np.array([[1,2],[3,4]])\n",
        "a2 = np.insert(a,[1,2],[6,7] , axis =0)\n",
        "print(a2)"
      ],
      "metadata": {
        "colab": {
          "base_uri": "https://localhost:8080/"
        },
        "id": "yIFoG0hSl90d",
        "outputId": "243cff52-df87-45e5-9d76-9ab5166183e3"
      },
      "execution_count": 11,
      "outputs": [
        {
          "output_type": "stream",
          "name": "stdout",
          "text": [
            "[[1 6 2 7]\n",
            " [3 6 4 7]]\n",
            "__________________________\n",
            "[[1 2]\n",
            " [6 7]\n",
            " [3 4]\n",
            " [6 7]]\n"
          ]
        }
      ]
    },
    {
      "cell_type": "code",
      "source": [
        "#1D\n",
        "a = np.array([1,2,3,4])\n",
        "a2 = np.delete(a,3) #3 is index not element\n",
        "print(a2)"
      ],
      "metadata": {
        "colab": {
          "base_uri": "https://localhost:8080/"
        },
        "id": "OKbwzzJonQW5",
        "outputId": "f126feb6-6c57-42f1-bf05-7a29ed85c60d"
      },
      "execution_count": 14,
      "outputs": [
        {
          "output_type": "stream",
          "name": "stdout",
          "text": [
            "[1 2 3]\n"
          ]
        }
      ]
    },
    {
      "cell_type": "code",
      "source": [
        "a = np.array([1,2,3,4])\n",
        "a2 = np.delete(a,[0,3])\n",
        "print(a2)"
      ],
      "metadata": {
        "colab": {
          "base_uri": "https://localhost:8080/"
        },
        "id": "NrDGx_ponc0U",
        "outputId": "fd766c05-07ba-498e-8245-2a34ebe4b227"
      },
      "execution_count": 15,
      "outputs": [
        {
          "output_type": "stream",
          "name": "stdout",
          "text": [
            "[2 3]\n"
          ]
        }
      ]
    },
    {
      "cell_type": "code",
      "source": [
        "#2D delete\n",
        "a = np.array([[1,2],[3,4]])\n",
        "a2 = np.delete(a,1, axis =0) # axis= 0 row wise\n",
        "print(a2)\n",
        "print()\n",
        "#2D delete\n",
        "a = np.array([[1,2],[3,4]])\n",
        "a2 = np.delete(a,1, axis =1) #axis= 1 column wise\n",
        "print(a2)"
      ],
      "metadata": {
        "colab": {
          "base_uri": "https://localhost:8080/"
        },
        "id": "dQ4ozn1gn-qq",
        "outputId": "8ebc445a-6ddd-41db-e8b4-55aae309a09e"
      },
      "execution_count": 18,
      "outputs": [
        {
          "output_type": "stream",
          "name": "stdout",
          "text": [
            "[[1 2]]\n",
            "\n",
            "[[1]\n",
            " [3]]\n"
          ]
        }
      ]
    },
    {
      "cell_type": "code",
      "source": [],
      "metadata": {
        "id": "stbnBILBoYTR"
      },
      "execution_count": null,
      "outputs": []
    }
  ]
}