{
  "nbformat": 4,
  "nbformat_minor": 0,
  "metadata": {
    "colab": {
      "provenance": [],
      "authorship_tag": "ABX9TyPLnJCWZYB0Ny5z+l4vreK8",
      "include_colab_link": true
    },
    "kernelspec": {
      "name": "python3",
      "display_name": "Python 3"
    },
    "language_info": {
      "name": "python"
    }
  },
  "cells": [
    {
      "cell_type": "markdown",
      "metadata": {
        "id": "view-in-github",
        "colab_type": "text"
      },
      "source": [
        "<a href=\"https://colab.research.google.com/github/KVenkataPavani/NumPy-Numerical_Python/blob/main/Aggregating_Functions_in_arrays_NumPy.ipynb\" target=\"_parent\"><img src=\"https://colab.research.google.com/assets/colab-badge.svg\" alt=\"Open In Colab\"/></a>"
      ]
    },
    {
      "cell_type": "code",
      "execution_count": 1,
      "metadata": {
        "id": "vHCpd1AVzt8d"
      },
      "outputs": [],
      "source": [
        "import numpy as np"
      ]
    },
    {
      "cell_type": "code",
      "source": [
        "a = np.array([10,20,30,40])\n",
        "\n",
        "print(np.sum(a))\n",
        "print(np.prod(a))\n",
        "print(np.min(a))\n",
        "print(np.max(a))\n",
        "print(np.size(a)) #in numpy we dont have count we use size\n",
        "print(np.mean(a))\n",
        "print(np.cumsum(a)) #10, 10+20,10+20+30,....\n",
        "print(np.cumprod(a))"
      ],
      "metadata": {
        "colab": {
          "base_uri": "https://localhost:8080/"
        },
        "id": "T8MmCjfY0xmb",
        "outputId": "81620fa0-ec5e-4109-e750-9f8ba59d4b8c"
      },
      "execution_count": 10,
      "outputs": [
        {
          "output_type": "stream",
          "name": "stdout",
          "text": [
            "100\n",
            "240000\n",
            "10\n",
            "40\n",
            "4\n",
            "25.0\n",
            "[ 10  30  60 100]\n",
            "[    10    200   6000 240000]\n"
          ]
        }
      ]
    },
    {
      "cell_type": "code",
      "source": [
        "# For 2D arrays, you can specify axis\n",
        "arr_2d = np.array([[1, 2, 3],\n",
        "                              [4, 5, 6]])\n",
        "print(np.sum(arr_2d, axis=0) ) # Sum each column: [5, 7, 9]\n",
        "print()\n",
        "print()\n",
        "\n",
        "print(np.sum(arr_2d, axis=1))  # Sum each row: [6, 15]\n"
      ],
      "metadata": {
        "colab": {
          "base_uri": "https://localhost:8080/"
        },
        "id": "Ndojbv_22Gbv",
        "outputId": "1dec90a0-f928-4395-8325-bbb27272f1d7"
      },
      "execution_count": 13,
      "outputs": [
        {
          "output_type": "stream",
          "name": "stdout",
          "text": [
            "[5 7 9]\n",
            "\n",
            "\n",
            "[ 6 15]\n"
          ]
        }
      ]
    },
    {
      "cell_type": "code",
      "source": [],
      "metadata": {
        "id": "Vad8fCw64lg1"
      },
      "execution_count": null,
      "outputs": []
    }
  ]
}