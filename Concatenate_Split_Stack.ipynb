{
  "nbformat": 4,
  "nbformat_minor": 0,
  "metadata": {
    "colab": {
      "provenance": [],
      "authorship_tag": "ABX9TyO+4s3WrH/K6osu0Tl2TSt6",
      "include_colab_link": true
    },
    "kernelspec": {
      "name": "python3",
      "display_name": "Python 3"
    },
    "language_info": {
      "name": "python"
    }
  },
  "cells": [
    {
      "cell_type": "markdown",
      "metadata": {
        "id": "view-in-github",
        "colab_type": "text"
      },
      "source": [
        "<a href=\"https://colab.research.google.com/github/KVenkataPavani/NumPy-Numerical_Python/blob/main/Concatenate_Split_Stack.ipynb\" target=\"_parent\"><img src=\"https://colab.research.google.com/assets/colab-badge.svg\" alt=\"Open In Colab\"/></a>"
      ]
    },
    {
      "cell_type": "code",
      "execution_count": 1,
      "metadata": {
        "id": "W0Yx-T_YQyq7"
      },
      "outputs": [],
      "source": [
        "import numpy as np"
      ]
    },
    {
      "cell_type": "code",
      "source": [
        "a1 = np.array([1,2,3])\n",
        "a2 = np.array([4,5,6])\n",
        "a3 = np.concatenate([a1,a2])\n",
        "print(a3)"
      ],
      "metadata": {
        "colab": {
          "base_uri": "https://localhost:8080/"
        },
        "id": "vDpudCBERt6e",
        "outputId": "41cca2e0-023f-4c0f-8be8-b644219aa1c4"
      },
      "execution_count": 3,
      "outputs": [
        {
          "output_type": "stream",
          "name": "stdout",
          "text": [
            "[1 2 3 4 5 6]\n"
          ]
        }
      ]
    },
    {
      "cell_type": "code",
      "source": [
        "#For 2D array\n",
        "a1 = np.array([[1,2],[3,4]])\n",
        "a2 = np.array([[4,5],[6,7]])\n",
        "a3 = np.concatenate([a1,a2]) # here axis= 0 combine vertically\n",
        "print(a3)  # [[1 2], [3 4], [4,5], [6,7]]"
      ],
      "metadata": {
        "colab": {
          "base_uri": "https://localhost:8080/"
        },
        "id": "XCQ7V8WxR-fW",
        "outputId": "54162012-35ae-4375-fc6e-e4547d8173e5"
      },
      "execution_count": 7,
      "outputs": [
        {
          "output_type": "stream",
          "name": "stdout",
          "text": [
            "[[1 2]\n",
            " [3 4]\n",
            " [4 5]\n",
            " [6 7]]\n"
          ]
        }
      ]
    },
    {
      "cell_type": "code",
      "source": [
        "#For 2D array\n",
        "a1 = np.array([[1,2],[3,4]])\n",
        "a2 = np.array([[4,5],[6,7]])\n",
        "a3 = np.concatenate([a1,a2],axis=1) # here axis=1 combine Horizantally\n",
        "print(a3)  # [[1 2 4, 5], [3 4 6 7]]"
      ],
      "metadata": {
        "colab": {
          "base_uri": "https://localhost:8080/"
        },
        "id": "cNwN6pUoSlZr",
        "outputId": "ef016dfd-dfab-46eb-aa4c-0863e6be18fb"
      },
      "execution_count": 8,
      "outputs": [
        {
          "output_type": "stream",
          "name": "stdout",
          "text": [
            "[[1 2 4 5]\n",
            " [3 4 6 7]]\n"
          ]
        }
      ]
    },
    {
      "cell_type": "code",
      "source": [
        "#For 2D array\n",
        "a1 = np.array([[1,2],[3,4]])\n",
        "a2 = np.array([[4,5],[6,7]])\n",
        "a3 = np.vstack([a1,a2]) #same as concatenate axis =0\n",
        "print(a3)"
      ],
      "metadata": {
        "colab": {
          "base_uri": "https://localhost:8080/"
        },
        "id": "BT5fAS9eUVmU",
        "outputId": "327e448c-8109-4349-b1f5-26fcf460dc8e"
      },
      "execution_count": 9,
      "outputs": [
        {
          "output_type": "stream",
          "name": "stdout",
          "text": [
            "[[1 2]\n",
            " [3 4]\n",
            " [4 5]\n",
            " [6 7]]\n"
          ]
        }
      ]
    },
    {
      "cell_type": "code",
      "source": [
        "#For 2D array\n",
        "a1 = np.array([[1,2],[3,4]])\n",
        "a2 = np.array([[4,5],[6,7]])\n",
        "a3 = np.hstack([a1,a2]) #same as concatenate axis = 1\n",
        "print(a3)"
      ],
      "metadata": {
        "colab": {
          "base_uri": "https://localhost:8080/"
        },
        "id": "We3-yx3mUkKz",
        "outputId": "c054c0da-96a1-4b36-9a19-3b3dcbdd5ada"
      },
      "execution_count": 10,
      "outputs": [
        {
          "output_type": "stream",
          "name": "stdout",
          "text": [
            "[[1 2 4 5]\n",
            " [3 4 6 7]]\n"
          ]
        }
      ]
    },
    {
      "cell_type": "code",
      "source": [
        "a1 = np.array([1,2,3])\n",
        "a2 = np.array([4,5,6])\n",
        "columnstackarray = np.column_stack([a1,a2])\n",
        "print(columnstackarray)"
      ],
      "metadata": {
        "colab": {
          "base_uri": "https://localhost:8080/"
        },
        "id": "_OTrBBxkWC-c",
        "outputId": "54d4deab-2e64-432a-b61c-03655b11c902"
      },
      "execution_count": 12,
      "outputs": [
        {
          "output_type": "stream",
          "name": "stdout",
          "text": [
            "[[1 4]\n",
            " [2 5]\n",
            " [3 6]]\n"
          ]
        }
      ]
    },
    {
      "cell_type": "code",
      "source": [
        "a1 = np.array([1,2,3,4,5,6])\n",
        "a2= np.split(a1,3)\n",
        "print(a2)"
      ],
      "metadata": {
        "colab": {
          "base_uri": "https://localhost:8080/"
        },
        "id": "HL_YZIBgWude",
        "outputId": "439feee0-f146-4e76-c9c1-666d0aab8d4f"
      },
      "execution_count": 15,
      "outputs": [
        {
          "output_type": "stream",
          "name": "stdout",
          "text": [
            "[array([1, 2]), array([3, 4]), array([5, 6])]\n"
          ]
        }
      ]
    },
    {
      "cell_type": "code",
      "source": [
        "#split at specific indices\n",
        "a1 = np.array([1,2,3,4,5,6])\n",
        "a2= np.split(a1,[2,4])\n",
        "print(a2)\n"
      ],
      "metadata": {
        "colab": {
          "base_uri": "https://localhost:8080/"
        },
        "id": "zyCrUulbhHYc",
        "outputId": "f134b5e3-bb69-4faf-84df-4ca9b54d0a2c"
      },
      "execution_count": 17,
      "outputs": [
        {
          "output_type": "stream",
          "name": "stdout",
          "text": [
            "[array([1, 2]), array([3, 4]), array([5, 6])]\n"
          ]
        }
      ]
    },
    {
      "cell_type": "code",
      "source": [
        "a = np.array([[1,2,3,4],[5,6,7,8]])\n",
        "hsplit = np.hsplit(a,2)\n",
        "vsplit = np.vsplit(a,2)\n",
        "print(hsplit)\n",
        "print(vsplit)"
      ],
      "metadata": {
        "colab": {
          "base_uri": "https://localhost:8080/"
        },
        "id": "dGfTuT6Mh1KD",
        "outputId": "212d6ba7-fb5a-4642-b85a-ff7f482d613c"
      },
      "execution_count": 18,
      "outputs": [
        {
          "output_type": "stream",
          "name": "stdout",
          "text": [
            "[array([[1, 2],\n",
            "       [5, 6]]), array([[3, 4],\n",
            "       [7, 8]])]\n",
            "[array([[1, 2, 3, 4]]), array([[5, 6, 7, 8]])]\n"
          ]
        }
      ]
    }
  ]
}