{
  "nbformat": 4,
  "nbformat_minor": 0,
  "metadata": {
    "colab": {
      "provenance": [],
      "authorship_tag": "ABX9TyM3CZA3XbHBZZ4entEY5kOH",
      "include_colab_link": true
    },
    "kernelspec": {
      "name": "python3",
      "display_name": "Python 3"
    },
    "language_info": {
      "name": "python"
    }
  },
  "cells": [
    {
      "cell_type": "markdown",
      "metadata": {
        "id": "view-in-github",
        "colab_type": "text"
      },
      "source": [
        "<a href=\"https://colab.research.google.com/github/KVenkataPavani/NumPy-Numerical_Python/blob/main/Indexing_and_Slicing.ipynb\" target=\"_parent\"><img src=\"https://colab.research.google.com/assets/colab-badge.svg\" alt=\"Open In Colab\"/></a>"
      ]
    },
    {
      "cell_type": "markdown",
      "source": [
        "#**Indexing and Slicing**"
      ],
      "metadata": {
        "id": "1B0F6qR-GEEP"
      }
    },
    {
      "cell_type": "markdown",
      "source": [
        "##**Indexing**"
      ],
      "metadata": {
        "id": "4UMgHDQOHPpr"
      }
    },
    {
      "cell_type": "markdown",
      "source": [
        "The items of an array can be accessed and assigned to the same way as other Python sequences (e.g. lists):"
      ],
      "metadata": {
        "id": "p8UD22U_GSpE"
      }
    },
    {
      "cell_type": "code",
      "source": [
        "import numpy as np\n",
        "a = np.arange(10)\n",
        "\n",
        "print(a[5])  #indices begin at 0, like other Python sequences (and C/C++)"
      ],
      "metadata": {
        "colab": {
          "base_uri": "https://localhost:8080/"
        },
        "id": "AlH6giGvGUSf",
        "outputId": "36a9b5fd-1005-4d41-d722-6817c28fc068"
      },
      "execution_count": 2,
      "outputs": [
        {
          "output_type": "stream",
          "name": "stdout",
          "text": [
            "5\n"
          ]
        }
      ]
    },
    {
      "cell_type": "code",
      "execution_count": 3,
      "metadata": {
        "colab": {
          "base_uri": "https://localhost:8080/"
        },
        "id": "PoinBG3eFwgl",
        "outputId": "17548407-bfa5-46a0-f99a-98eebf065e8b"
      },
      "outputs": [
        {
          "output_type": "stream",
          "name": "stdout",
          "text": [
            "3\n"
          ]
        }
      ],
      "source": [
        "# For multidimensional arrays, indexes are tuples of integers:\n",
        "\n",
        "a = np.diag([1, 2, 3])\n",
        "\n",
        "print(a[2, 2])\n",
        "#index rows and columns start from 0 1 2 ...."
      ]
    },
    {
      "cell_type": "code",
      "source": [
        "a[2, 1] = 5 #assigning value\n",
        "\n",
        "a"
      ],
      "metadata": {
        "colab": {
          "base_uri": "https://localhost:8080/"
        },
        "id": "aCO210hgHI43",
        "outputId": "ea55c7cc-d85d-4984-d56f-cf5802b450b0"
      },
      "execution_count": 4,
      "outputs": [
        {
          "output_type": "execute_result",
          "data": {
            "text/plain": [
              "array([[1, 0, 0],\n",
              "       [0, 2, 0],\n",
              "       [0, 5, 3]])"
            ]
          },
          "metadata": {},
          "execution_count": 4
        }
      ]
    },
    {
      "cell_type": "markdown",
      "source": [
        "##**Slicing**"
      ],
      "metadata": {
        "id": "5ZOBETd_HSPh"
      }
    },
    {
      "cell_type": "code",
      "source": [
        "a = np.arange(10)\n",
        "a"
      ],
      "metadata": {
        "colab": {
          "base_uri": "https://localhost:8080/"
        },
        "id": "76-uBzt3HUdr",
        "outputId": "c7501501-2dc5-4310-8d49-45aaba4ceccc"
      },
      "execution_count": 5,
      "outputs": [
        {
          "output_type": "execute_result",
          "data": {
            "text/plain": [
              "array([0, 1, 2, 3, 4, 5, 6, 7, 8, 9])"
            ]
          },
          "metadata": {},
          "execution_count": 5
        }
      ]
    },
    {
      "cell_type": "code",
      "source": [
        "a[1:8:2] # [startindex: endindex(exclusive) : step]"
      ],
      "metadata": {
        "colab": {
          "base_uri": "https://localhost:8080/"
        },
        "id": "LTxgUB07HZlK",
        "outputId": "83728f13-742e-4fe1-8080-0b24625469e0"
      },
      "execution_count": 6,
      "outputs": [
        {
          "output_type": "execute_result",
          "data": {
            "text/plain": [
              "array([1, 3, 5, 7])"
            ]
          },
          "metadata": {},
          "execution_count": 6
        }
      ]
    },
    {
      "cell_type": "code",
      "source": [
        "#we can also combine assignment and slicing:\n",
        "a = np.arange(10)\n",
        "a[5:] = 10\n",
        "a"
      ],
      "metadata": {
        "colab": {
          "base_uri": "https://localhost:8080/"
        },
        "id": "Q8wqYmu9HfLV",
        "outputId": "c69ac116-bc13-4862-8786-c6f6d7f3cc01"
      },
      "execution_count": 7,
      "outputs": [
        {
          "output_type": "execute_result",
          "data": {
            "text/plain": [
              "array([ 0,  1,  2,  3,  4, 10, 10, 10, 10, 10])"
            ]
          },
          "metadata": {},
          "execution_count": 7
        }
      ]
    },
    {
      "cell_type": "code",
      "source": [
        "b = np.arange(5)\n",
        "a[5:] = b[::-1]  #assigning\n",
        "a\n",
        "# 1st b=0,1,2,3,4\n",
        "# b[::-1] is reverse = 4,3,2,1,0\n",
        "#reversing and then assigning that value from 5th index of a\n",
        "#a[5:] = 0,1,2,3,4,4,3,2,1,0"
      ],
      "metadata": {
        "colab": {
          "base_uri": "https://localhost:8080/"
        },
        "id": "U9jkxOaQHlbX",
        "outputId": "2521a246-c77f-4926-a088-5263f7956958"
      },
      "execution_count": 9,
      "outputs": [
        {
          "output_type": "execute_result",
          "data": {
            "text/plain": [
              "array([0, 1, 2, 3, 4, 4, 3, 2, 1, 0])"
            ]
          },
          "metadata": {},
          "execution_count": 9
        }
      ]
    },
    {
      "cell_type": "markdown",
      "source": [
        "#**Copies and Views**"
      ],
      "metadata": {
        "id": "rgaXxZeKI2fd"
      }
    },
    {
      "cell_type": "markdown",
      "source": [
        "A slicing operation creates a view on the original array, which is just a way of accessing array data. Thus the original array is not copied in memory. You can use np.may_share_memory() to check if two arrays share the same memory block.\n",
        "\n",
        "When modifying the view, the original array is modified as well:"
      ],
      "metadata": {
        "id": "FvJgLKZGJAhD"
      }
    },
    {
      "cell_type": "code",
      "source": [
        "a = np.arange(10)\n",
        "a"
      ],
      "metadata": {
        "colab": {
          "base_uri": "https://localhost:8080/"
        },
        "id": "8IJF1pryI95u",
        "outputId": "51596421-a673-4354-a51e-f5be7b11766e"
      },
      "execution_count": 10,
      "outputs": [
        {
          "output_type": "execute_result",
          "data": {
            "text/plain": [
              "array([0, 1, 2, 3, 4, 5, 6, 7, 8, 9])"
            ]
          },
          "metadata": {},
          "execution_count": 10
        }
      ]
    },
    {
      "cell_type": "code",
      "source": [
        "b = a[::2]\n",
        "b"
      ],
      "metadata": {
        "colab": {
          "base_uri": "https://localhost:8080/"
        },
        "id": "8wPp5r_aJFr8",
        "outputId": "ba22741c-ede2-464a-89b5-88ef15582398"
      },
      "execution_count": 11,
      "outputs": [
        {
          "output_type": "execute_result",
          "data": {
            "text/plain": [
              "array([0, 2, 4, 6, 8])"
            ]
          },
          "metadata": {},
          "execution_count": 11
        }
      ]
    },
    {
      "cell_type": "code",
      "source": [
        "np.shares_memory(a, b)"
      ],
      "metadata": {
        "colab": {
          "base_uri": "https://localhost:8080/"
        },
        "id": "6RkmfP8WJHjd",
        "outputId": "27839d65-8adc-4b64-e48e-9e30e0b49725"
      },
      "execution_count": 12,
      "outputs": [
        {
          "output_type": "execute_result",
          "data": {
            "text/plain": [
              "True"
            ]
          },
          "metadata": {},
          "execution_count": 12
        }
      ]
    },
    {
      "cell_type": "code",
      "source": [
        "b[0] = 10\n",
        "b"
      ],
      "metadata": {
        "colab": {
          "base_uri": "https://localhost:8080/"
        },
        "id": "2kjZq4CPJIqA",
        "outputId": "abfc4ba9-46a7-4688-eb1f-0e6e7bddeb78"
      },
      "execution_count": 13,
      "outputs": [
        {
          "output_type": "execute_result",
          "data": {
            "text/plain": [
              "array([10,  2,  4,  6,  8])"
            ]
          },
          "metadata": {},
          "execution_count": 13
        }
      ]
    },
    {
      "cell_type": "code",
      "source": [
        "a  #eventhough we modified b,  it updated 'a' because both shares same memory"
      ],
      "metadata": {
        "colab": {
          "base_uri": "https://localhost:8080/"
        },
        "id": "gHzd8LlAJKNC",
        "outputId": "a3af36e1-fc34-4f22-8937-4d08cecc7df5"
      },
      "execution_count": 14,
      "outputs": [
        {
          "output_type": "execute_result",
          "data": {
            "text/plain": [
              "array([10,  1,  2,  3,  4,  5,  6,  7,  8,  9])"
            ]
          },
          "metadata": {},
          "execution_count": 14
        }
      ]
    },
    {
      "cell_type": "code",
      "source": [
        "a = np.arange(10)\n",
        "c = a[::2].copy()     #force a copy\n",
        "#wen we use copy function it doesnt shares memory and value wont get updated in a unlike aboe example\n",
        "c"
      ],
      "metadata": {
        "colab": {
          "base_uri": "https://localhost:8080/"
        },
        "id": "hFMVYfmqJL9t",
        "outputId": "c45efb98-b35d-4d86-ec1e-1988c5eedf15"
      },
      "execution_count": 15,
      "outputs": [
        {
          "output_type": "execute_result",
          "data": {
            "text/plain": [
              "array([0, 2, 4, 6, 8])"
            ]
          },
          "metadata": {},
          "execution_count": 15
        }
      ]
    },
    {
      "cell_type": "code",
      "source": [
        "np.shares_memory(a, c)"
      ],
      "metadata": {
        "colab": {
          "base_uri": "https://localhost:8080/"
        },
        "id": "K2zImX3TJNML",
        "outputId": "9f92a721-d3e5-47a2-e83f-4e53a2f72131"
      },
      "execution_count": 16,
      "outputs": [
        {
          "output_type": "execute_result",
          "data": {
            "text/plain": [
              "False"
            ]
          },
          "metadata": {},
          "execution_count": 16
        }
      ]
    },
    {
      "cell_type": "code",
      "source": [
        "c[0] = 10\n",
        "a"
      ],
      "metadata": {
        "colab": {
          "base_uri": "https://localhost:8080/"
        },
        "id": "YqxqsL-JJOR7",
        "outputId": "94111134-69f5-4a37-c6d5-00f7eb0122f1"
      },
      "execution_count": 18,
      "outputs": [
        {
          "output_type": "execute_result",
          "data": {
            "text/plain": [
              "array([0, 1, 2, 3, 4, 5, 6, 7, 8, 9])"
            ]
          },
          "metadata": {},
          "execution_count": 18
        }
      ]
    },
    {
      "cell_type": "markdown",
      "source": [
        "#**Fancy Indexing**"
      ],
      "metadata": {
        "id": "yA98e1IkKZ08"
      }
    },
    {
      "cell_type": "markdown",
      "source": [
        "NumPy arrays can be indexed with slices, but also with boolean or integer arrays (masks). This method is called fancy indexing. It creates copies not views.\n",
        "\n",
        "Using Boolean Mask"
      ],
      "metadata": {
        "id": "Xv_yKNMvKgZ9"
      }
    },
    {
      "cell_type": "code",
      "source": [
        "a = np.random.randint(0, 20, 15)\n",
        "a"
      ],
      "metadata": {
        "colab": {
          "base_uri": "https://localhost:8080/"
        },
        "id": "oezK2_l4Ki0c",
        "outputId": "7c7b1252-70f2-44c6-de64-53198c46696a"
      },
      "execution_count": 19,
      "outputs": [
        {
          "output_type": "execute_result",
          "data": {
            "text/plain": [
              "array([18,  0,  4,  3, 10, 10, 17, 11,  9,  2, 14, 18, 19,  8,  3])"
            ]
          },
          "metadata": {},
          "execution_count": 19
        }
      ]
    },
    {
      "cell_type": "code",
      "source": [
        "mask = (a % 2 == 0)"
      ],
      "metadata": {
        "id": "xOh3pD6AKoDS"
      },
      "execution_count": 20,
      "outputs": []
    },
    {
      "cell_type": "code",
      "source": [
        "otp = a[mask]\n",
        "otp"
      ],
      "metadata": {
        "colab": {
          "base_uri": "https://localhost:8080/"
        },
        "id": "Vgm2lTZ5KvKr",
        "outputId": "339aeebe-4a50-4a1c-cba9-eb186e357a3d"
      },
      "execution_count": 21,
      "outputs": [
        {
          "output_type": "execute_result",
          "data": {
            "text/plain": [
              "array([18,  0,  4, 10, 10,  2, 14, 18,  8])"
            ]
          },
          "metadata": {},
          "execution_count": 21
        }
      ]
    },
    {
      "cell_type": "markdown",
      "source": [
        "**Indexing with a mask can be very useful to assign a new value to a sub-array:**"
      ],
      "metadata": {
        "id": "mYmUdbANK5LP"
      }
    },
    {
      "cell_type": "code",
      "source": [
        "a[mask] = -1\n",
        "a\n",
        "#all the even numbers become -1"
      ],
      "metadata": {
        "colab": {
          "base_uri": "https://localhost:8080/"
        },
        "id": "cGj5AMrLK_-O",
        "outputId": "d18ba4c9-0fd7-4cb8-f934-a736ac0a6012"
      },
      "execution_count": 22,
      "outputs": [
        {
          "output_type": "execute_result",
          "data": {
            "text/plain": [
              "array([-1, -1, -1,  3, -1, -1, 17, 11,  9, -1, -1, -1, 19, -1,  3])"
            ]
          },
          "metadata": {},
          "execution_count": 22
        }
      ]
    },
    {
      "cell_type": "markdown",
      "source": [
        "**Indexing with an array of integers**"
      ],
      "metadata": {
        "id": "RENQVYU5LR7W"
      }
    },
    {
      "cell_type": "code",
      "source": [
        "a = np.arange(0, 100, 10)\n",
        "a"
      ],
      "metadata": {
        "colab": {
          "base_uri": "https://localhost:8080/"
        },
        "id": "WczEXeYjLUdr",
        "outputId": "1d447ce8-d721-4688-da26-9379c2afd7e4"
      },
      "execution_count": 23,
      "outputs": [
        {
          "output_type": "execute_result",
          "data": {
            "text/plain": [
              "array([ 0, 10, 20, 30, 40, 50, 60, 70, 80, 90])"
            ]
          },
          "metadata": {},
          "execution_count": 23
        }
      ]
    },
    {
      "cell_type": "code",
      "source": [
        "#Indexing can be done with an array of integers, where the same index is repeated several time:\n",
        "a[[2, 3, 2, 4, 2]]"
      ],
      "metadata": {
        "colab": {
          "base_uri": "https://localhost:8080/"
        },
        "id": "JuqWNJKxLNgR",
        "outputId": "66db8ef9-876d-4538-b252-6481b7b00f6f"
      },
      "execution_count": 24,
      "outputs": [
        {
          "output_type": "execute_result",
          "data": {
            "text/plain": [
              "array([20, 30, 20, 40, 20])"
            ]
          },
          "metadata": {},
          "execution_count": 24
        }
      ]
    },
    {
      "cell_type": "code",
      "source": [
        "# New values can be assigned\n",
        "a[[9, 7]] = -200\n",
        "a"
      ],
      "metadata": {
        "colab": {
          "base_uri": "https://localhost:8080/"
        },
        "id": "RbUOF2h7LilK",
        "outputId": "65cbfbf7-7524-43fb-8c41-e5e35850ed2b"
      },
      "execution_count": 25,
      "outputs": [
        {
          "output_type": "execute_result",
          "data": {
            "text/plain": [
              "array([   0,   10,   20,   30,   40,   50,   60, -200,   80, -200])"
            ]
          },
          "metadata": {},
          "execution_count": 25
        }
      ]
    }
  ]
}