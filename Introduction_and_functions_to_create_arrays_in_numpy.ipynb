{
  "nbformat": 4,
  "nbformat_minor": 0,
  "metadata": {
    "colab": {
      "provenance": [],
      "authorship_tag": "ABX9TyP+6RoS1afB7HQMOZ4nFoyZ",
      "include_colab_link": true
    },
    "kernelspec": {
      "name": "python3",
      "display_name": "Python 3"
    },
    "language_info": {
      "name": "python"
    }
  },
  "cells": [
    {
      "cell_type": "markdown",
      "metadata": {
        "id": "view-in-github",
        "colab_type": "text"
      },
      "source": [
        "<a href=\"https://colab.research.google.com/github/KVenkataPavani/NumPy-Numerical_Python/blob/main/Introduction_and_functions_to_create_arrays_in_numpy.ipynb\" target=\"_parent\"><img src=\"https://colab.research.google.com/assets/colab-badge.svg\" alt=\"Open In Colab\"/></a>"
      ]
    },
    {
      "cell_type": "markdown",
      "source": [
        "* Python library used for working with arrays.\n",
        "* NumPy stands for Numerical Python.\n",
        "* NumPy aims to provide an array object that is up to 50x faster than traditional Python lists."
      ],
      "metadata": {
        "id": "cxQ0dd6LtMSH"
      }
    },
    {
      "cell_type": "code",
      "execution_count": 1,
      "metadata": {
        "colab": {
          "base_uri": "https://localhost:8080/"
        },
        "id": "Pt54gIgwsFSo",
        "outputId": "7163681f-ad93-4d26-b6a1-ee5bab057b17"
      },
      "outputs": [
        {
          "output_type": "stream",
          "name": "stdout",
          "text": [
            "[1 2 3 4]\n",
            "[ 0  1  2  3  4  5  6  7  8  9 10 11 12 13 14 15 16 17 18 19]\n"
          ]
        }
      ],
      "source": [
        "import numpy as np\n",
        "a = np.array([1,2,3,4])\n",
        "print(a)\n",
        "print(np.arange(20))"
      ]
    },
    {
      "cell_type": "markdown",
      "source": [
        "**%timeit -  find the execution time of small bits of Python code.**"
      ],
      "metadata": {
        "id": "-NFKHTH-we6L"
      }
    },
    {
      "cell_type": "code",
      "source": [
        "#Using Python Lists\n",
        "list1=range(1000)\n",
        "%timeit [i**2 for i in list1]\n",
        "#using 432 micro seconds\n",
        "#1 micro sec is 1 millionth of a second\n",
        "#1 million microsec = 1 sec"
      ],
      "metadata": {
        "colab": {
          "base_uri": "https://localhost:8080/"
        },
        "id": "kKdnqs8Qvzfr",
        "outputId": "46fd2256-092f-4da2-a998-3477628cdb7e"
      },
      "execution_count": 5,
      "outputs": [
        {
          "output_type": "stream",
          "name": "stdout",
          "text": [
            "432 µs ± 105 µs per loop (mean ± std. dev. of 7 runs, 1000 loops each)\n"
          ]
        }
      ]
    },
    {
      "cell_type": "code",
      "source": [
        "#using NumPy\n",
        "a = np.arange(1000)\n",
        "%timeit a**2"
      ],
      "metadata": {
        "colab": {
          "base_uri": "https://localhost:8080/"
        },
        "id": "0K_HdfhCwRb-",
        "outputId": "79e99fa3-ba2a-4bee-ab80-5eec3c4950bc"
      },
      "execution_count": 6,
      "outputs": [
        {
          "output_type": "stream",
          "name": "stdout",
          "text": [
            "1.38 µs ± 301 ns per loop (mean ± std. dev. of 7 runs, 1000000 loops each)\n"
          ]
        }
      ]
    },
    {
      "cell_type": "markdown",
      "source": [
        "#**Creating NumPy arrays**"
      ],
      "metadata": {
        "id": "Eu7Tg7Ekytqh"
      }
    },
    {
      "cell_type": "markdown",
      "source": [
        "###**1D Array**"
      ],
      "metadata": {
        "id": "WW48grTEzsfW"
      }
    },
    {
      "cell_type": "code",
      "source": [
        "#1D Array\n",
        "a = np.array([1,2,3,4,5])\n",
        "a"
      ],
      "metadata": {
        "colab": {
          "base_uri": "https://localhost:8080/"
        },
        "id": "6CsjtN41y03e",
        "outputId": "09eca62d-1c90-4042-edd8-365b0dd9c5e2"
      },
      "execution_count": 7,
      "outputs": [
        {
          "output_type": "execute_result",
          "data": {
            "text/plain": [
              "array([1, 2, 3, 4, 5])"
            ]
          },
          "metadata": {},
          "execution_count": 7
        }
      ]
    },
    {
      "cell_type": "code",
      "source": [
        "a.ndim #ndim - how many dimensions the array have."
      ],
      "metadata": {
        "colab": {
          "base_uri": "https://localhost:8080/"
        },
        "id": "q2Pu1xBszDMj",
        "outputId": "bc3ba888-b070-41e9-8c9a-19750c928670"
      },
      "execution_count": 8,
      "outputs": [
        {
          "output_type": "execute_result",
          "data": {
            "text/plain": [
              "1"
            ]
          },
          "metadata": {},
          "execution_count": 8
        }
      ]
    },
    {
      "cell_type": "code",
      "source": [
        "a.shape # shape -size of ana rray"
      ],
      "metadata": {
        "colab": {
          "base_uri": "https://localhost:8080/"
        },
        "id": "yUMo_BFBzWpc",
        "outputId": "8264482e-34c9-4982-c627-ce1855a36210"
      },
      "execution_count": 9,
      "outputs": [
        {
          "output_type": "execute_result",
          "data": {
            "text/plain": [
              "(5,)"
            ]
          },
          "metadata": {},
          "execution_count": 9
        }
      ]
    },
    {
      "cell_type": "code",
      "source": [
        "len(a)"
      ],
      "metadata": {
        "colab": {
          "base_uri": "https://localhost:8080/"
        },
        "id": "BouxSF6Ezj4b",
        "outputId": "5172574c-61d9-4d93-be77-df9f2627b948"
      },
      "execution_count": 10,
      "outputs": [
        {
          "output_type": "execute_result",
          "data": {
            "text/plain": [
              "5"
            ]
          },
          "metadata": {},
          "execution_count": 10
        }
      ]
    },
    {
      "cell_type": "markdown",
      "source": [
        "###**2D , 3D.... Arrays**"
      ],
      "metadata": {
        "id": "1vTh2CvnzxY4"
      }
    },
    {
      "cell_type": "code",
      "source": [
        "b=np.array([[1,2,3],[4,5,6]]) #listoflist we give\n",
        "b"
      ],
      "metadata": {
        "colab": {
          "base_uri": "https://localhost:8080/"
        },
        "id": "iD8gIuafzom5",
        "outputId": "4c751569-a14c-422c-9dac-d54e6f55f090"
      },
      "execution_count": 13,
      "outputs": [
        {
          "output_type": "execute_result",
          "data": {
            "text/plain": [
              "array([[1, 2, 3],\n",
              "       [4, 5, 6]])"
            ]
          },
          "metadata": {},
          "execution_count": 13
        }
      ]
    },
    {
      "cell_type": "code",
      "source": [
        "print(b.ndim)\n",
        "print(b.shape) # 2 rows and 3 columns\n",
        "print(len(b))  # size of 1st dimension i.e number of rows"
      ],
      "metadata": {
        "colab": {
          "base_uri": "https://localhost:8080/"
        },
        "id": "rA30lhjj0rC1",
        "outputId": "486d9cc8-3c1f-4b19-b15e-819fd1824b0a"
      },
      "execution_count": 17,
      "outputs": [
        {
          "output_type": "stream",
          "name": "stdout",
          "text": [
            "2\n",
            "(2, 3)\n",
            "2\n"
          ]
        }
      ]
    },
    {
      "cell_type": "code",
      "source": [
        "c=np.array([[[1,2,3],[4,5,6],[7,8,9],[10,11,12]]]) #listoflistoflist we give\n",
        "c"
      ],
      "metadata": {
        "colab": {
          "base_uri": "https://localhost:8080/"
        },
        "id": "s2xfe17F1TlE",
        "outputId": "1fa3b6f0-e221-4a6a-caf0-a99da05a4c51"
      },
      "execution_count": 21,
      "outputs": [
        {
          "output_type": "execute_result",
          "data": {
            "text/plain": [
              "array([[[ 1,  2,  3],\n",
              "        [ 4,  5,  6],\n",
              "        [ 7,  8,  9],\n",
              "        [10, 11, 12]]])"
            ]
          },
          "metadata": {},
          "execution_count": 21
        }
      ]
    },
    {
      "cell_type": "code",
      "source": [
        "print(c.ndim)\n",
        "print(c.shape)\n",
        "#The first dimension is the outermost list (contains one element).\n",
        "# The second dimension contains four rows (each of these rows is a list).\n",
        "# The third dimension contains three elements in each of those rows.\n",
        "print(len(c))  # size of 1st dimension i.e number of rows"
      ],
      "metadata": {
        "colab": {
          "base_uri": "https://localhost:8080/"
        },
        "id": "qYjRq8Pb1gZg",
        "outputId": "9bd05649-59b8-4247-daab-532fc75cdbbf"
      },
      "execution_count": 22,
      "outputs": [
        {
          "output_type": "stream",
          "name": "stdout",
          "text": [
            "3\n",
            "(1, 4, 3)\n",
            "1\n"
          ]
        }
      ]
    },
    {
      "cell_type": "markdown",
      "source": [
        "* 1D Vector\n",
        "* 2D matrix\n",
        "* nD Tensor"
      ],
      "metadata": {
        "id": "TZ_exVCG2ASH"
      }
    },
    {
      "cell_type": "markdown",
      "source": [
        "##**Functions for creating arrays**"
      ],
      "metadata": {
        "id": "6DFlKTJx6kUm"
      }
    },
    {
      "cell_type": "code",
      "source": [
        "#using  arange Function\n",
        "# arange -- array valued version of the built in python range function\n",
        "a=np.arange(10)\n",
        "a"
      ],
      "metadata": {
        "colab": {
          "base_uri": "https://localhost:8080/"
        },
        "id": "EcGCk3cx2JDf",
        "outputId": "d75b1d76-197e-4959-e5dc-4f6f48628e94"
      },
      "execution_count": 23,
      "outputs": [
        {
          "output_type": "execute_result",
          "data": {
            "text/plain": [
              "array([0, 1, 2, 3, 4, 5, 6, 7, 8, 9])"
            ]
          },
          "metadata": {},
          "execution_count": 23
        }
      ]
    },
    {
      "cell_type": "code",
      "source": [
        "b = np.arange(1,10,2) #start , end, step\n",
        "b"
      ],
      "metadata": {
        "colab": {
          "base_uri": "https://localhost:8080/"
        },
        "id": "P4_AOTi76-R-",
        "outputId": "fa8d9aa1-7167-4e95-bc5d-02f403fc3cff"
      },
      "execution_count": 24,
      "outputs": [
        {
          "output_type": "execute_result",
          "data": {
            "text/plain": [
              "array([1, 3, 5, 7, 9])"
            ]
          },
          "metadata": {},
          "execution_count": 24
        }
      ]
    },
    {
      "cell_type": "code",
      "source": [
        "#using linspace -- linear space\n",
        "a = np.linspace(0,1,6) #start, end, no of points\n",
        "a\n",
        "#no of points 6 is dividing 1 to 1 into 6 parts"
      ],
      "metadata": {
        "colab": {
          "base_uri": "https://localhost:8080/"
        },
        "id": "7jHW76Qj7HFX",
        "outputId": "1b860f84-5152-40c3-f58d-bd150c4e09cf"
      },
      "execution_count": 25,
      "outputs": [
        {
          "output_type": "execute_result",
          "data": {
            "text/plain": [
              "array([0. , 0.2, 0.4, 0.6, 0.8, 1. ])"
            ]
          },
          "metadata": {},
          "execution_count": 25
        }
      ]
    },
    {
      "cell_type": "code",
      "source": [
        "#common arrays\n",
        "a=np.ones((3,3)) #(3,3) is tuple\n",
        "a"
      ],
      "metadata": {
        "colab": {
          "base_uri": "https://localhost:8080/"
        },
        "id": "_OqIXgGV76g1",
        "outputId": "74161aaf-4456-494b-dbde-998e7765ccb1"
      },
      "execution_count": 26,
      "outputs": [
        {
          "output_type": "execute_result",
          "data": {
            "text/plain": [
              "array([[1., 1., 1.],\n",
              "       [1., 1., 1.],\n",
              "       [1., 1., 1.]])"
            ]
          },
          "metadata": {},
          "execution_count": 26
        }
      ]
    },
    {
      "cell_type": "code",
      "source": [
        "a=np.zeros((4,4))\n",
        "a"
      ],
      "metadata": {
        "colab": {
          "base_uri": "https://localhost:8080/"
        },
        "id": "085NeNEZ8KeY",
        "outputId": "7616e1a5-ba8e-4d1e-ff85-9a5094220f40"
      },
      "execution_count": 28,
      "outputs": [
        {
          "output_type": "execute_result",
          "data": {
            "text/plain": [
              "array([[0., 0., 0., 0.],\n",
              "       [0., 0., 0., 0.],\n",
              "       [0., 0., 0., 0.],\n",
              "       [0., 0., 0., 0.]])"
            ]
          },
          "metadata": {},
          "execution_count": 28
        }
      ]
    },
    {
      "cell_type": "markdown",
      "source": [
        "###**Identity Matrix**"
      ],
      "metadata": {
        "id": "jpL_u4128Zek"
      }
    },
    {
      "cell_type": "code",
      "source": [
        "np.eye(3)"
      ],
      "metadata": {
        "colab": {
          "base_uri": "https://localhost:8080/"
        },
        "id": "pQB5ZAZ18RJU",
        "outputId": "06772a6d-53ed-4507-e451-ed0b3f418869"
      },
      "execution_count": 29,
      "outputs": [
        {
          "output_type": "execute_result",
          "data": {
            "text/plain": [
              "array([[1., 0., 0.],\n",
              "       [0., 1., 0.],\n",
              "       [0., 0., 1.]])"
            ]
          },
          "metadata": {},
          "execution_count": 29
        }
      ]
    },
    {
      "cell_type": "code",
      "source": [
        "np.eye(2)"
      ],
      "metadata": {
        "colab": {
          "base_uri": "https://localhost:8080/"
        },
        "id": "1BLqyDhb8h_P",
        "outputId": "40ff70fb-e912-4b78-d536-e4151c29e05e"
      },
      "execution_count": 30,
      "outputs": [
        {
          "output_type": "execute_result",
          "data": {
            "text/plain": [
              "array([[1., 0.],\n",
              "       [0., 1.]])"
            ]
          },
          "metadata": {},
          "execution_count": 30
        }
      ]
    },
    {
      "cell_type": "code",
      "source": [
        "np.eye(3,2)"
      ],
      "metadata": {
        "colab": {
          "base_uri": "https://localhost:8080/"
        },
        "id": "9S-uTpPL8whW",
        "outputId": "340a949e-b2a2-45d0-9b5b-f3d7ce60b179"
      },
      "execution_count": 31,
      "outputs": [
        {
          "output_type": "execute_result",
          "data": {
            "text/plain": [
              "array([[1., 0.],\n",
              "       [0., 1.],\n",
              "       [0., 0.]])"
            ]
          },
          "metadata": {},
          "execution_count": 31
        }
      ]
    },
    {
      "cell_type": "markdown",
      "source": [
        "###**Diagonal Matrix**"
      ],
      "metadata": {
        "id": "ats1Z-cq9TpV"
      }
    },
    {
      "cell_type": "code",
      "source": [
        "a = np.diag([1,2,3,4])\n",
        "a"
      ],
      "metadata": {
        "colab": {
          "base_uri": "https://localhost:8080/"
        },
        "id": "zAr2bMrA9aEH",
        "outputId": "f02bbbfc-be93-421f-e1da-5fe0bbfdf2c3"
      },
      "execution_count": 32,
      "outputs": [
        {
          "output_type": "execute_result",
          "data": {
            "text/plain": [
              "array([[1, 0, 0, 0],\n",
              "       [0, 2, 0, 0],\n",
              "       [0, 0, 3, 0],\n",
              "       [0, 0, 0, 4]])"
            ]
          },
          "metadata": {},
          "execution_count": 32
        }
      ]
    },
    {
      "cell_type": "code",
      "source": [
        "np.diag(a)"
      ],
      "metadata": {
        "colab": {
          "base_uri": "https://localhost:8080/"
        },
        "id": "Fq7mdSUV9ySJ",
        "outputId": "d5091e35-cd91-4aca-ce5f-87ce79a65e8d"
      },
      "execution_count": 33,
      "outputs": [
        {
          "output_type": "execute_result",
          "data": {
            "text/plain": [
              "array([1, 2, 3, 4])"
            ]
          },
          "metadata": {},
          "execution_count": 33
        }
      ]
    },
    {
      "cell_type": "markdown",
      "source": [
        "###**using random**"
      ],
      "metadata": {
        "id": "hXc-Qh8o9_c3"
      }
    },
    {
      "cell_type": "code",
      "source": [
        "a = np.random.rand(4) #random- module, rand- function\n",
        "a\n",
        "#uniform distributed random numbers"
      ],
      "metadata": {
        "colab": {
          "base_uri": "https://localhost:8080/"
        },
        "id": "jLflJFWV-CvH",
        "outputId": "9920f477-6cac-4751-b299-245229d9c6db"
      },
      "execution_count": 35,
      "outputs": [
        {
          "output_type": "execute_result",
          "data": {
            "text/plain": [
              "array([0.00452319, 0.97743604, 0.96081939, 0.78895177])"
            ]
          },
          "metadata": {},
          "execution_count": 35
        }
      ]
    },
    {
      "cell_type": "code",
      "source": [
        "a = np.random.randn(4) #random- module, randn- rand normal function\n",
        "a\n",
        "#standard normal variable numbers"
      ],
      "metadata": {
        "colab": {
          "base_uri": "https://localhost:8080/"
        },
        "id": "28Vir-zh-Tbj",
        "outputId": "9183d5b7-f723-4c2f-b5da-661b33aabbd4"
      },
      "execution_count": 36,
      "outputs": [
        {
          "output_type": "execute_result",
          "data": {
            "text/plain": [
              "array([ 0.06251958, -0.0579229 , -1.76709557, -1.24126463])"
            ]
          },
          "metadata": {},
          "execution_count": 36
        }
      ]
    }
  ]
}