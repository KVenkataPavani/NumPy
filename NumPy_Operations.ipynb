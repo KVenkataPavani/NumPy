{
  "nbformat": 4,
  "nbformat_minor": 0,
  "metadata": {
    "colab": {
      "provenance": [],
      "authorship_tag": "ABX9TyMuv9ila4/2hJ7+SmPuRseH",
      "include_colab_link": true
    },
    "kernelspec": {
      "name": "python3",
      "display_name": "Python 3"
    },
    "language_info": {
      "name": "python"
    }
  },
  "cells": [
    {
      "cell_type": "markdown",
      "metadata": {
        "id": "view-in-github",
        "colab_type": "text"
      },
      "source": [
        "<a href=\"https://colab.research.google.com/github/KVenkataPavani/NumPy-Numerical_Python/blob/main/NumPy_Operations.ipynb\" target=\"_parent\"><img src=\"https://colab.research.google.com/assets/colab-badge.svg\" alt=\"Open In Colab\"/></a>"
      ]
    },
    {
      "cell_type": "markdown",
      "source": [
        "NumPy - Numerical Python"
      ],
      "metadata": {
        "id": "QziZgDlofCuH"
      }
    },
    {
      "cell_type": "code",
      "source": [
        "pip install numpy"
      ],
      "metadata": {
        "colab": {
          "base_uri": "https://localhost:8080/"
        },
        "id": "V8u4sTk6fXC2",
        "outputId": "040422e7-84ea-431c-9405-ffd9484fe5bf"
      },
      "execution_count": null,
      "outputs": [
        {
          "output_type": "stream",
          "name": "stdout",
          "text": [
            "Requirement already satisfied: numpy in /usr/local/lib/python3.10/dist-packages (1.26.4)\n"
          ]
        }
      ]
    },
    {
      "cell_type": "code",
      "source": [
        "import numpy as np\n"
      ],
      "metadata": {
        "id": "USzSQJqKlGEN"
      },
      "execution_count": 1,
      "outputs": []
    },
    {
      "cell_type": "markdown",
      "source": [
        "### Creating arrays"
      ],
      "metadata": {
        "id": "rtbo_wNo1c4G"
      }
    },
    {
      "cell_type": "code",
      "source": [
        "arr = np.array([10,20,30,40])\n",
        "print(arr)\n",
        "print(type(arr))"
      ],
      "metadata": {
        "colab": {
          "base_uri": "https://localhost:8080/"
        },
        "id": "rrgfDMzCpQ-p",
        "outputId": "3a27d2c5-315c-4fe6-b682-5284629cc51e"
      },
      "execution_count": null,
      "outputs": [
        {
          "output_type": "stream",
          "name": "stdout",
          "text": [
            "[10 20 30 40]\n",
            "<class 'numpy.ndarray'>\n"
          ]
        }
      ]
    },
    {
      "cell_type": "code",
      "source": [
        " arr = np.array( [ [1,2,3],[4,5,6] ] )\n",
        " print(arr)"
      ],
      "metadata": {
        "colab": {
          "base_uri": "https://localhost:8080/"
        },
        "id": "MdgIzxbCpcgr",
        "outputId": "b47e0f25-e313-4c5c-acca-9523d5e5b052"
      },
      "execution_count": null,
      "outputs": [
        {
          "output_type": "stream",
          "name": "stdout",
          "text": [
            "[[1 2 3]\n",
            " [4 5 6]]\n"
          ]
        }
      ]
    },
    {
      "cell_type": "code",
      "source": [
        "zeroes = np.zeros((3,2))\n",
        "print(zeroes)"
      ],
      "metadata": {
        "colab": {
          "base_uri": "https://localhost:8080/"
        },
        "id": "ow3RVoesvSKb",
        "outputId": "ec54e7a8-8051-40a9-9c75-9986cc7a36f8"
      },
      "execution_count": null,
      "outputs": [
        {
          "output_type": "stream",
          "name": "stdout",
          "text": [
            "[[0. 0.]\n",
            " [0. 0.]\n",
            " [0. 0.]]\n"
          ]
        }
      ]
    },
    {
      "cell_type": "code",
      "source": [
        "one = np.ones((3,2))\n",
        "print(one)"
      ],
      "metadata": {
        "colab": {
          "base_uri": "https://localhost:8080/"
        },
        "id": "lG8X-TnOvfKi",
        "outputId": "03c1da3d-c7f7-4ca2-e421-a59bfeca1e4b"
      },
      "execution_count": null,
      "outputs": [
        {
          "output_type": "stream",
          "name": "stdout",
          "text": [
            "[[1. 1.]\n",
            " [1. 1.]\n",
            " [1. 1.]]\n"
          ]
        }
      ]
    },
    {
      "cell_type": "markdown",
      "source": [
        " ### Array Properties- shape,size,dtype"
      ],
      "metadata": {
        "id": "sTUDXxF31mIX"
      }
    },
    {
      "cell_type": "code",
      "source": [
        " arr = np.array( [ [1,2,3],[4,5,6] ] )\n",
        " print(arr)\n",
        " print(arr.shape) #no of rows and columns\n",
        " print(arr.size) #number of elements\n",
        " print(arr.ndim) #number dimensions\n",
        " print(len(arr)) #number of nested values\n",
        " print(type(arr)) #type of variable\n",
        " print(arr.dtype) #data type of variable\n",
        " print(arr.astype(float)) #conversion of data type"
      ],
      "metadata": {
        "colab": {
          "base_uri": "https://localhost:8080/"
        },
        "id": "nOq-znDQw9AO",
        "outputId": "5b8278dd-b83e-4cda-8194-d80d3cf2adfa"
      },
      "execution_count": null,
      "outputs": [
        {
          "output_type": "stream",
          "name": "stdout",
          "text": [
            "[[1 2 3]\n",
            " [4 5 6]]\n",
            "(2, 3)\n",
            "6\n",
            "2\n",
            "2\n",
            "<class 'numpy.ndarray'>\n",
            "int64\n",
            "[[1. 2. 3.]\n",
            " [4. 5. 6.]]\n"
          ]
        }
      ]
    },
    {
      "cell_type": "markdown",
      "source": [
        "### Reshape() and flatten()"
      ],
      "metadata": {
        "id": "TDJSjTqg1sQM"
      }
    },
    {
      "cell_type": "code",
      "source": [
        "arr= np.arange(9)\n",
        "print(arr)\n",
        "newarr = arr.reshape(3,3)\n",
        "newarr\n"
      ],
      "metadata": {
        "colab": {
          "base_uri": "https://localhost:8080/"
        },
        "id": "194AY8mLw9ur",
        "outputId": "46b31a87-8f69-44ff-bd4b-2c1e417ff86a"
      },
      "execution_count": null,
      "outputs": [
        {
          "output_type": "stream",
          "name": "stdout",
          "text": [
            "[0 1 2 3 4 5 6 7 8]\n"
          ]
        },
        {
          "output_type": "execute_result",
          "data": {
            "text/plain": [
              "array([[0, 1, 2],\n",
              "       [3, 4, 5],\n",
              "       [6, 7, 8]])"
            ]
          },
          "metadata": {},
          "execution_count": 32
        }
      ]
    },
    {
      "cell_type": "code",
      "source": [
        "arr = np.array([[1,2,3],[4,5,6],[7,8,9]])\n",
        "print(arr)\n",
        "print(arr.ndim)\n",
        "flattenedarray = arr.flatten()\n",
        "print(flattenedarray)"
      ],
      "metadata": {
        "colab": {
          "base_uri": "https://localhost:8080/"
        },
        "id": "Y_0flSX1y81z",
        "outputId": "05860fe8-47be-451d-9c06-f1a8e3de63be"
      },
      "execution_count": null,
      "outputs": [
        {
          "output_type": "stream",
          "name": "stdout",
          "text": [
            "[[1 2 3]\n",
            " [4 5 6]\n",
            " [7 8 9]]\n",
            "2\n",
            "[1 2 3 4 5 6 7 8 9]\n"
          ]
        }
      ]
    },
    {
      "cell_type": "markdown",
      "source": [
        "### INDEXING"
      ],
      "metadata": {
        "id": "Ad29er4U1zWi"
      }
    },
    {
      "cell_type": "code",
      "source": [
        "#for one dimension array\n",
        "arr =  np.array([100,20,30,40,50,60])\n",
        "print(arr[0])\n",
        "print(arr[-2])\n",
        "print(arr[[0,4,5]]) #if we want to access multiple index elements at once"
      ],
      "metadata": {
        "colab": {
          "base_uri": "https://localhost:8080/"
        },
        "id": "1iXHE4kf8I8P",
        "outputId": "0a854310-2e54-4a9b-c9a1-c38ed6fa3ec7"
      },
      "execution_count": null,
      "outputs": [
        {
          "output_type": "stream",
          "name": "stdout",
          "text": [
            "100\n",
            "50\n",
            "[100  50  60]\n"
          ]
        }
      ]
    },
    {
      "cell_type": "code",
      "source": [
        "#for two dimension array\n",
        "arr = np.array([[10,20,30],[40,50,60],[70,80,90]])\n",
        "print(arr)\n",
        "print(arr[1,2])\n",
        "print(arr[-1,-2])"
      ],
      "metadata": {
        "colab": {
          "base_uri": "https://localhost:8080/"
        },
        "id": "z8it6vb__i7c",
        "outputId": "dc2330ea-2d10-472f-c2d1-48b3d810ab4f"
      },
      "execution_count": null,
      "outputs": [
        {
          "output_type": "stream",
          "name": "stdout",
          "text": [
            "[[10 20 30]\n",
            " [40 50 60]\n",
            " [70 80 90]]\n",
            "60\n",
            "80\n"
          ]
        }
      ]
    },
    {
      "cell_type": "markdown",
      "source": [
        "### Slicing"
      ],
      "metadata": {
        "id": "9AZf8HJBDdKt"
      }
    },
    {
      "cell_type": "code",
      "source": [
        "#For 1Darray\n",
        "arr =  np.array([100,20,30,40,50,60])\n",
        "print(arr[1:3])\n",
        "print(arr[1:])\n",
        "print(arr[:3])\n",
        "print(arr[0:4:1])\n",
        "print(arr[0:4:2])\n",
        "print(arr[0:4:3])\n",
        "print(arr[::-1]) # reverse the array"
      ],
      "metadata": {
        "colab": {
          "base_uri": "https://localhost:8080/"
        },
        "id": "nIRMQWrcDfNX",
        "outputId": "4a5b6ac4-fe9b-4730-f230-b45d8857cd47"
      },
      "execution_count": null,
      "outputs": [
        {
          "output_type": "stream",
          "name": "stdout",
          "text": [
            "[20 30]\n",
            "[20 30 40 50 60]\n",
            "[100  20  30]\n",
            "[100  20  30  40]\n",
            "[100  30]\n",
            "[100  40]\n",
            "[ 60  50  40  30  20 100]\n"
          ]
        }
      ]
    },
    {
      "cell_type": "code",
      "source": [
        "#For 2D array\n",
        "arr = np.array([[1, 2, 3, 4],[5, 6, 7, 8],[9, 10,11,12]])\n",
        "print(arr)"
      ],
      "metadata": {
        "colab": {
          "base_uri": "https://localhost:8080/"
        },
        "id": "G3G3hW1IIv5T",
        "outputId": "11186928-2df2-47a4-fe3c-9fdb34417877"
      },
      "execution_count": null,
      "outputs": [
        {
          "output_type": "stream",
          "name": "stdout",
          "text": [
            "[[ 1  2  3  4]\n",
            " [ 5  6  7  8]\n",
            " [ 9 10 11 12]]\n"
          ]
        }
      ]
    },
    {
      "cell_type": "code",
      "source": [
        "arr1= arr[0:2,0:3]\n",
        "print(arr1)"
      ],
      "metadata": {
        "colab": {
          "base_uri": "https://localhost:8080/"
        },
        "id": "LmsEOzHyKeKO",
        "outputId": "52c62e18-4086-4d3a-fd8b-5a9329ff68db"
      },
      "execution_count": null,
      "outputs": [
        {
          "output_type": "stream",
          "name": "stdout",
          "text": [
            "[[1 2 3]\n",
            " [5 6 7]]\n"
          ]
        }
      ]
    },
    {
      "cell_type": "code",
      "source": [
        "arr1= arr[0:1,0:1]\n",
        "print(arr1)"
      ],
      "metadata": {
        "colab": {
          "base_uri": "https://localhost:8080/"
        },
        "id": "9qsK9aX3K3DF",
        "outputId": "166c275b-e43e-40b0-81b5-005bb7f3011a"
      },
      "execution_count": null,
      "outputs": [
        {
          "output_type": "stream",
          "name": "stdout",
          "text": [
            "[[1]]\n"
          ]
        }
      ]
    },
    {
      "cell_type": "code",
      "source": [
        "arr = np.array([[1, 2, 3, 4],[5, 6, 7, 8],[9, 10,11,12]])\n",
        "arr1= arr[0,:]\n",
        "# 0 selects the first row.\n",
        "# : means all columns.\n",
        "print(arr1)"
      ],
      "metadata": {
        "colab": {
          "base_uri": "https://localhost:8080/"
        },
        "id": "H3eiTUhaLHnq",
        "outputId": "2bd5aa35-659b-4431-b254-86b27dce12d4"
      },
      "execution_count": null,
      "outputs": [
        {
          "output_type": "stream",
          "name": "stdout",
          "text": [
            "[1 2 3 4]\n"
          ]
        }
      ]
    },
    {
      "cell_type": "code",
      "source": [
        "arr = np.array([[1, 2, 3, 4],[5, 6, 7, 8],[9, 10,11,12]])\n",
        "arr1= arr[:,0]\n",
        "#: means all rows.\n",
        "#0 selects the 1st column (indexing starts from 0).\n",
        "print(arr1)"
      ],
      "metadata": {
        "colab": {
          "base_uri": "https://localhost:8080/"
        },
        "id": "33T17ZZ5MMBA",
        "outputId": "4bf3277a-a8c2-4d32-8f39-66aaaf71f642"
      },
      "execution_count": null,
      "outputs": [
        {
          "output_type": "stream",
          "name": "stdout",
          "text": [
            "[1 5 9]\n"
          ]
        }
      ]
    },
    {
      "cell_type": "code",
      "source": [
        "arr = np.array([[1, 2, 3, 4],[5, 6, 7, 8],[9, 10,11,12]])\n",
        "arr1= arr[0:2,0:2]\n",
        "# 0:2 selects the first two rows.\n",
        "# 0:2 selects the first two columns.\n",
        "print(arr1)"
      ],
      "metadata": {
        "colab": {
          "base_uri": "https://localhost:8080/"
        },
        "id": "e5hs_ZQRNc2e",
        "outputId": "4bad1c07-575e-437b-cdef-274f2d85eea3"
      },
      "execution_count": null,
      "outputs": [
        {
          "output_type": "stream",
          "name": "stdout",
          "text": [
            "[[1 2]\n",
            " [5 6]]\n"
          ]
        }
      ]
    },
    {
      "cell_type": "code",
      "source": [
        "arr = np.array([[1, 2, 3, 4],[5, 6, 7, 8],[9, 10,11,12]])\n",
        "arr1= arr[::2,::2]\n",
        "# ::2 means select every second row/column.\n",
        "\n",
        "print(arr1)"
      ],
      "metadata": {
        "colab": {
          "base_uri": "https://localhost:8080/"
        },
        "id": "S22RRDQ5PDfu",
        "outputId": "83f8a5a9-3732-402d-d93a-de30995446ec"
      },
      "execution_count": null,
      "outputs": [
        {
          "output_type": "stream",
          "name": "stdout",
          "text": [
            "[[ 1  3]\n",
            " [ 9 11]]\n"
          ]
        }
      ]
    },
    {
      "cell_type": "markdown",
      "source": [
        "### Modifying Subarrays"
      ],
      "metadata": {
        "id": "yphajDRPPdF8"
      }
    },
    {
      "cell_type": "code",
      "source": [
        "arr = np.array([[1, 2, 3, 4],[5, 6, 7, 8],[9, 10,11,12]])\n",
        "print(arr)\n",
        "arr[0:2,0:2] = [[99,99],[100,100]]\n",
        "# 0:2 selects the first two rows.\n",
        "# 0:2 selects the first two columns.\n",
        "print(arr)"
      ],
      "metadata": {
        "colab": {
          "base_uri": "https://localhost:8080/"
        },
        "id": "7mhEVWbmPebT",
        "outputId": "f90dda5f-22b6-4098-8285-e285355db446"
      },
      "execution_count": null,
      "outputs": [
        {
          "output_type": "stream",
          "name": "stdout",
          "text": [
            "[[ 1  2  3  4]\n",
            " [ 5  6  7  8]\n",
            " [ 9 10 11 12]]\n",
            "[[ 99  99   3   4]\n",
            " [100 100   7   8]\n",
            " [  9  10  11  12]]\n"
          ]
        }
      ]
    },
    {
      "cell_type": "markdown",
      "source": [
        "### Mathematical Operations"
      ],
      "metadata": {
        "id": "GjZrqbFG8g7D"
      }
    },
    {
      "cell_type": "code",
      "source": [
        "# a1 = np.array([[1,2,3],[4,5,6]])\n",
        "# a2 = np.array([[7,8,9],[1,2,3]])\n",
        "a1 = np.array([1,2,3,4,5,6])\n",
        "a2 = np.array([7,8,9,1,2,3])\n",
        "print(a1+a2)"
      ],
      "metadata": {
        "colab": {
          "base_uri": "https://localhost:8080/"
        },
        "id": "Autr7vQzBNIG",
        "outputId": "45b2ea3e-0b10-4b11-c7f3-4ccd81c3a572"
      },
      "execution_count": null,
      "outputs": [
        {
          "output_type": "stream",
          "name": "stdout",
          "text": [
            "[ 8 10 12  5  7  9]\n"
          ]
        }
      ]
    },
    {
      "cell_type": "code",
      "source": [
        "a1 = np.array([[1,2,3],[4,5,6]])\n",
        "a2 = np.array([[7,8,9],[1,2,3]])\n",
        "print(a1+a2)"
      ],
      "metadata": {
        "id": "L7R-c1ZeBqHF",
        "colab": {
          "base_uri": "https://localhost:8080/"
        },
        "outputId": "aa61fbc0-6d81-4761-f4e9-d7cd3915d952"
      },
      "execution_count": null,
      "outputs": [
        {
          "output_type": "stream",
          "name": "stdout",
          "text": [
            "[[ 8 10 12]\n",
            " [ 5  7  9]]\n"
          ]
        }
      ]
    },
    {
      "cell_type": "markdown",
      "source": [
        "Mathematical Functions and operations"
      ],
      "metadata": {
        "id": "coeqQF6CCfeh"
      }
    },
    {
      "cell_type": "code",
      "source": [
        "#1D array\n",
        "arr = np.array([1,2,3,4])\n",
        "print(arr+2)\n",
        "print(arr -2)\n",
        "print( arr*2)\n",
        "print(arr/2)\n",
        "print( arr **2)"
      ],
      "metadata": {
        "colab": {
          "base_uri": "https://localhost:8080/"
        },
        "id": "SOhsFAM3Cb5W",
        "outputId": "732c6c3b-4c86-407a-e471-0bb86af077c5"
      },
      "execution_count": 6,
      "outputs": [
        {
          "output_type": "stream",
          "name": "stdout",
          "text": [
            "[3 4 5 6]\n",
            "[-1  0  1  2]\n",
            "[2 4 6 8]\n",
            "[0.5 1.  1.5 2. ]\n",
            "[ 1  4  9 16]\n"
          ]
        }
      ]
    },
    {
      "cell_type": "code",
      "source": [
        "arr1 = np.array([[1,2,3],[1,2,3]])\n",
        "arr2 = np.array([[4,5,6],[4,5,6]])\n",
        "arr3 = np.array([4,9,16])\n",
        "print(np.add(arr1,arr2))\n",
        "print(\"________\")\n",
        "print(np.subtract(arr1,arr2))\n",
        "print(\"________\")\n",
        "print(np.multiply(arr1,arr2))\n",
        "print(\"________\")\n",
        "print(np.power(arr1,arr2))\n",
        "print(\"________\")\n",
        "print(np.divide(arr1,arr2))\n",
        "print(\"________\")\n",
        "print(np.sqrt(arr3))"
      ],
      "metadata": {
        "colab": {
          "base_uri": "https://localhost:8080/"
        },
        "id": "7Eit2dqUEGty",
        "outputId": "e45eb79e-484d-4e27-9062-5cc514c74622"
      },
      "execution_count": 11,
      "outputs": [
        {
          "output_type": "stream",
          "name": "stdout",
          "text": [
            "[[5 7 9]\n",
            " [5 7 9]]\n",
            "________\n",
            "[[-3 -3 -3]\n",
            " [-3 -3 -3]]\n",
            "________\n",
            "[[ 4 10 18]\n",
            " [ 4 10 18]]\n",
            "________\n",
            "[[  1  32 729]\n",
            " [  1  32 729]]\n",
            "________\n",
            "[[0.25 0.4  0.5 ]\n",
            " [0.25 0.4  0.5 ]]\n",
            "________\n",
            "[2. 3. 4.]\n"
          ]
        }
      ]
    },
    {
      "cell_type": "code",
      "source": [
        "arr1 = np.array([[1,2,3],[1,2,3]])\n",
        "arr2 = np.array([[4,5,6],[4,5,6]])\n",
        "arr3 = np.array([4,9,16])\n",
        "print(arr1+arr2)\n",
        "print(\"________\")\n",
        "print(arr1- arr2)\n",
        "print(\"________\")\n",
        "print(arr1*arr2)\n",
        "print(\"________\")\n",
        "print(arr1/arr2)\n",
        "print(\"________\")\n",
        "print(arr3**2)"
      ],
      "metadata": {
        "colab": {
          "base_uri": "https://localhost:8080/"
        },
        "id": "crnhLF2PGbcX",
        "outputId": "9137eead-6a56-40ee-c233-c4fc90a3ec09"
      },
      "execution_count": 14,
      "outputs": [
        {
          "output_type": "stream",
          "name": "stdout",
          "text": [
            "[[5 7 9]\n",
            " [5 7 9]]\n",
            "________\n",
            "[[-3 -3 -3]\n",
            " [-3 -3 -3]]\n",
            "________\n",
            "[[ 4 10 18]\n",
            " [ 4 10 18]]\n",
            "________\n",
            "[[0.25 0.4  0.5 ]\n",
            " [0.25 0.4  0.5 ]]\n",
            "________\n",
            "[ 16  81 256]\n"
          ]
        }
      ]
    },
    {
      "cell_type": "markdown",
      "source": [
        "### JOIN and SPLIT arrays"
      ],
      "metadata": {
        "id": "l5TWiPalH1XY"
      }
    },
    {
      "cell_type": "code",
      "source": [
        "#concatenate\n",
        "arr1 = np.array([1,2,3])\n",
        "arr2 = np.array([4,5,6])\n",
        "print(np.concatenate([arr1,arr2]))"
      ],
      "metadata": {
        "colab": {
          "base_uri": "https://localhost:8080/"
        },
        "id": "6du1Yy1LH5TV",
        "outputId": "a16a4c96-a8c3-4771-e3c2-68d8d628bbb6"
      },
      "execution_count": 16,
      "outputs": [
        {
          "output_type": "stream",
          "name": "stdout",
          "text": [
            "[1 2 3 4 5 6]\n"
          ]
        }
      ]
    }
  ]
}