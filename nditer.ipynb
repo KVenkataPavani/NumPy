{
  "nbformat": 4,
  "nbformat_minor": 0,
  "metadata": {
    "colab": {
      "provenance": [],
      "authorship_tag": "ABX9TyN+97GS6fAF+abYTJCJ+8gb",
      "include_colab_link": true
    },
    "kernelspec": {
      "name": "python3",
      "display_name": "Python 3"
    },
    "language_info": {
      "name": "python"
    }
  },
  "cells": [
    {
      "cell_type": "markdown",
      "metadata": {
        "id": "view-in-github",
        "colab_type": "text"
      },
      "source": [
        "<a href=\"https://colab.research.google.com/github/KVenkataPavani/NumPy-Numerical_Python/blob/main/nditer.ipynb\" target=\"_parent\"><img src=\"https://colab.research.google.com/assets/colab-badge.svg\" alt=\"Open In Colab\"/></a>"
      ]
    },
    {
      "cell_type": "code",
      "execution_count": 4,
      "metadata": {
        "colab": {
          "base_uri": "https://localhost:8080/"
        },
        "id": "mfF-aK7YepDc",
        "outputId": "ebda5452-866f-4fcc-fd17-65c7598552c2"
      },
      "outputs": [
        {
          "output_type": "stream",
          "name": "stdout",
          "text": [
            "[ 0  1  2  3  4  5  6  7  8  9 10 11]\n"
          ]
        }
      ],
      "source": [
        "import numpy as np\n",
        "a = np.arange(12)\n",
        "print(a)"
      ]
    },
    {
      "cell_type": "code",
      "source": [
        "a1=a.reshape(3,4)\n",
        "print(a1)"
      ],
      "metadata": {
        "colab": {
          "base_uri": "https://localhost:8080/"
        },
        "id": "zI7GUzxZeufx",
        "outputId": "282d0fce-6752-455d-9c8d-205d903afb43"
      },
      "execution_count": 7,
      "outputs": [
        {
          "output_type": "stream",
          "name": "stdout",
          "text": [
            "[[ 0  1  2  3]\n",
            " [ 4  5  6  7]\n",
            " [ 8  9 10 11]]\n"
          ]
        }
      ]
    },
    {
      "cell_type": "code",
      "source": [
        "#Iterating over a single array:\n",
        "a1=a.reshape(3,4)\n",
        "print(a1)\n",
        "\n",
        "print()\n",
        "for element in np.nditer(a1):\n",
        "  print(element,end='')"
      ],
      "metadata": {
        "colab": {
          "base_uri": "https://localhost:8080/"
        },
        "id": "KBZllIHLfBma",
        "outputId": "f26a7f2e-d290-479c-cd82-9be13f229157"
      },
      "execution_count": 12,
      "outputs": [
        {
          "output_type": "stream",
          "name": "stdout",
          "text": [
            "[[ 0  1  2  3]\n",
            " [ 4  5  6  7]\n",
            " [ 8  9 10 11]]\n",
            "\n",
            "01234567891011"
          ]
        }
      ]
    },
    {
      "cell_type": "code",
      "source": [
        "# Iterating over multiple arrays:\n",
        "a1 = np.array([[1,2],[3,4]])\n",
        "a2 = np .array([[1,1],[2,3]])\n",
        "\n",
        "for a,b in np.nditer([a1,a2]):\n",
        "  print(f\"a1:{a},a2:{b}\")\n",
        "  # We're using f-strings to format the output, which makes it more readable.\n",
        "# The nditer function allows us to easily iterate over multiple arrays at the same time, even if they have different shapes."
      ],
      "metadata": {
        "colab": {
          "base_uri": "https://localhost:8080/"
        },
        "id": "XhVprv5Lfy56",
        "outputId": "9d25f615-0324-45de-82e7-653e3975835e"
      },
      "execution_count": 22,
      "outputs": [
        {
          "output_type": "stream",
          "name": "stdout",
          "text": [
            "a1:1,a2:1\n",
            "a1:2,a2:1\n",
            "a1:3,a2:2\n",
            "a1:4,a2:3\n"
          ]
        }
      ]
    },
    {
      "cell_type": "code",
      "source": [],
      "metadata": {
        "id": "PV86XNokg3RX"
      },
      "execution_count": null,
      "outputs": []
    }
  ]
}